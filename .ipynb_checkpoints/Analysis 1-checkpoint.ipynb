{
 "cells": [
  {
   "cell_type": "markdown",
   "metadata": {},
   "source": [
    "## Analysis 1\n",
    "1. What are the top three body parts most frequently represented in this dataset?\n",
    "2. What are the top three body parts that are least frequently represented?\n"
   ]
  },
  {
   "cell_type": "code",
   "execution_count": 1,
   "metadata": {
    "collapsed": false
   },
   "outputs": [],
   "source": [
    "#Importing required packages\n",
    "import pandas as pd\n",
    "import numpy as np\n",
    "import matplotlib\n",
    "import seaborn as sns\n",
    "%matplotlib inline\n",
    "import datetime"
   ]
  },
  {
   "cell_type": "code",
   "execution_count": 2,
   "metadata": {
    "collapsed": false
   },
   "outputs": [],
   "source": [
    "#Reading the required files\n",
    "df1=pd.read_csv(r\"NEISS Data/NEISS2014.csv\")\n",
    "df2=pd.read_csv(r\"NEISS Data/BodyParts.csv\")"
   ]
  },
  {
   "cell_type": "code",
   "execution_count": 4,
   "metadata": {
    "collapsed": true
   },
   "outputs": [],
   "source": [
    "#Performing a left join to combine the body part code of df1 with the body part name in df2\n",
    "df3=pd.merge(df1,df2, how=\"left\", left_on=\"body_part\",right_on=\"Code\")"
   ]
  },
  {
   "cell_type": "code",
   "execution_count": 5,
   "metadata": {
    "collapsed": false
   },
   "outputs": [],
   "source": [
    "#Filtering data which has the value 'Not Recorded' since that is data which does not have recorded data\n",
    "df3=df3[(df3['BodyPart']!='Not Recorded')]"
   ]
  },
  {
   "cell_type": "code",
   "execution_count": 6,
   "metadata": {
    "collapsed": false
   },
   "outputs": [],
   "source": [
    "#Calculating frequency of occurence of each body part\n",
    "df4=df3.groupby(\"BodyPart\")['BodyPart'].agg({'Frequency':'count'}).reset_index()"
   ]
  },
  {
   "cell_type": "code",
   "execution_count": 7,
   "metadata": {
    "collapsed": false
   },
   "outputs": [],
   "source": [
    "#Sorting the values based on frequency\n",
    "df5=df4.sort_values(['Frequency'],ascending=False).reset_index(drop=True)"
   ]
  },
  {
   "cell_type": "code",
   "execution_count": 8,
   "metadata": {
    "collapsed": false
   },
   "outputs": [
    {
     "name": "stdout",
     "output_type": "stream",
     "text": [
      "Top three body parts most frequently represented in this dataset\n",
      "  BodyPart  Frequency\n",
      "0     Head       9891\n",
      "1     Face       5786\n",
      "2   Finger       5783\n"
     ]
    }
   ],
   "source": [
    "#Selecting top three body parts based on frequency\n",
    "df6=df5.head(3)\n",
    "print(\"Top three body parts most frequently represented in this dataset\")\n",
    "print(df6)"
   ]
  },
  {
   "cell_type": "code",
   "execution_count": 9,
   "metadata": {
    "collapsed": false
   },
   "outputs": [
    {
     "name": "stdout",
     "output_type": "stream",
     "text": [
      "Top three body parts least frequently represented in this dataset\n",
      "          BodyPart  Frequency\n",
      "22        Internal        549\n",
      "23    Pubic region        286\n",
      "24  25-50% of body          4\n"
     ]
    }
   ],
   "source": [
    "#Selecting bottom three body parts based on frequency\n",
    "df7=df5.tail(3)\n",
    "print(\"Top three body parts least frequently represented in this dataset\")\n",
    "print(df7)"
   ]
  },
  {
   "cell_type": "code",
   "execution_count": 10,
   "metadata": {
    "collapsed": false
   },
   "outputs": [
    {
     "name": "stdout",
     "output_type": "stream",
     "text": [
      "          BodyPart  Frequency\n",
      "0             Head       9891\n",
      "1             Face       5786\n",
      "2           Finger       5783\n",
      "22        Internal        549\n",
      "23    Pubic region        286\n",
      "24  25-50% of body          4\n"
     ]
    }
   ],
   "source": [
    "#Selecting top three and botton three in a single statement\n",
    "df7 = df5.iloc[np.r_[0:3, -3:0]]\n",
    "print(df7)"
   ]
  },
  {
   "cell_type": "code",
   "execution_count": 11,
   "metadata": {
    "collapsed": false
   },
   "outputs": [],
   "source": [
    "# Visualizing frequency of occurence of body parts represented in this dataset/\n"
   ]
  },
  {
   "cell_type": "code",
   "execution_count": 12,
   "metadata": {
    "collapsed": true
   },
   "outputs": [],
   "source": [
    "gf1=df5.head(10)"
   ]
  },
  {
   "cell_type": "code",
   "execution_count": 13,
   "metadata": {
    "collapsed": true
   },
   "outputs": [],
   "source": [
    "gf2=df5.tail(10)"
   ]
  },
  {
   "cell_type": "code",
   "execution_count": null,
   "metadata": {
    "collapsed": true
   },
   "outputs": [],
   "source": []
  },
  {
   "cell_type": "code",
   "execution_count": 14,
   "metadata": {
    "collapsed": false
   },
   "outputs": [
    {
     "data": {
      "text/plain": [
       "<matplotlib.text.Text at 0x7b78edc668>"
      ]
     },
     "execution_count": 14,
     "metadata": {},
     "output_type": "execute_result"
    },
    {
     "data": {
      "image/png": "[encoded data removed]",
      "text/plain": [
       "<matplotlib.figure.Figure at 0x7b7935c400>"
      ]
     },
     "metadata": {},
     "output_type": "display_data"
    }
   ],
   "source": [
    "ax=sns.factorplot(\"BodyPart\", \"Frequency\",\n",
    "                               data=gf1, kind=\"bar\",\n",
    "                               size=9, palette=\"muted\", legend=False)\n",
    "ax.set(xlabel='Body Part Name', ylabel='Frequency of Occurence')\n",
    "ax.fig.suptitle('Body Parts Occurence Frequency (Top 10) - Generated at '+str(datetime.datetime.now().strftime('%Y-%m-%d %H:%M:%S')))"
   ]
  },
  {
   "cell_type": "code",
   "execution_count": 15,
   "metadata": {
    "collapsed": false
   },
   "outputs": [
    {
     "data": {
      "text/plain": [
       "<matplotlib.text.Text at 0x7b799d6710>"
      ]
     },
     "execution_count": 15,
     "metadata": {},
     "output_type": "execute_result"
    },
    {
     "data": {
      "image/png": "[encoded data removed]",
      "text/plain": [
       "<matplotlib.figure.Figure at 0x7b79b912b0>"
      ]
     },
     "metadata": {},
     "output_type": "display_data"
    }
   ],
   "source": [
    "ax2=sns.factorplot(\"BodyPart\", \"Frequency\",\n",
    "                               data=gf2, kind=\"bar\",\n",
    "                               size=9, palette=\"muted\", legend=False)\n",
    "ax2.set(xlabel='Body Part Name', ylabel='Frequency of Occurence')\n",
    "ax2.fig.suptitle('Body Parts Occurence Frequency (Bottom 10) - Generated at '+str(datetime.datetime.now().strftime('%Y-%m-%d %H:%M:%S')))"
   ]
  },
  {
   "cell_type": "code",
   "execution_count": null,
   "metadata": {
    "collapsed": true
   },
   "outputs": [],
   "source": []
  },
  {
   "cell_type": "code",
   "execution_count": null,
   "metadata": {
    "collapsed": true
   },
   "outputs": [],
   "source": []
  }
 ],
 "metadata": {
  "kernelspec": {
   "display_name": "Python 3",
   "language": "python",
   "name": "python3"
  },
  "language_info": {
   "codemirror_mode": {
    "name": "ipython",
    "version": 3
   },
   "file_extension": ".py",
   "mimetype": "text/x-python",
   "name": "python",
   "nbconvert_exporter": "python",
   "pygments_lexer": "ipython3",
   "version": "3.6.0"
  }
 },
 "nbformat": 4,
 "nbformat_minor": 2
}
