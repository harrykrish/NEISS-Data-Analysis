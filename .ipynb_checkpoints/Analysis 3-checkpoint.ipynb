{
 "cells": [
  {
   "cell_type": "markdown",
   "metadata": {},
   "source": [
    "## Analysis 3\n",
    "1. What diagnosis had the highest hospitalization rate? \n",
    "2. What diagnosis most often concluded with the individual leaving without being seen?\n"
   ]
  },
  {
   "cell_type": "markdown",
   "metadata": {},
   "source": [
    "Assumptions:\n",
    "\n",
    "1. Code 4 (Considered as the patient is hospitalized)\n",
    "2. Code 6 (Left without being seen)\n",
    "\n",
    "Key:\n",
    "\n",
    "Treated and admitted for hospitalization (within same facility) - 4\n",
    "\n",
    "Left without being seen/Left against medical advice - 6\n"
   ]
  },
  {
   "cell_type": "code",
   "execution_count": 1,
   "metadata": {
    "collapsed": true
   },
   "outputs": [],
   "source": [
    "#Importing required packages\n",
    "import pandas as pd"
   ]
  },
  {
   "cell_type": "code",
   "execution_count": 2,
   "metadata": {
    "collapsed": false
   },
   "outputs": [],
   "source": [
    "#Reading the required files\n",
    "df1=pd.read_csv(r\"NEISS Data/NEISS2014.csv\")\n",
    "df2=pd.read_csv(r\"NEISS Data/DiagnosisCodes.csv\")"
   ]
  },
  {
   "cell_type": "code",
   "execution_count": 4,
   "metadata": {
    "collapsed": true
   },
   "outputs": [],
   "source": [
    "df3=pd.merge(df1,df2,how=\"left\", left_on=\"diag\",right_on=\"Code\")"
   ]
  },
  {
   "cell_type": "code",
   "execution_count": 6,
   "metadata": {
    "collapsed": false
   },
   "outputs": [],
   "source": [
    "#Filtering only cases people have been hospitalization\n",
    "df4=df3[(df3['disposition']==4)]"
   ]
  },
  {
   "cell_type": "code",
   "execution_count": 7,
   "metadata": {
    "collapsed": false
   },
   "outputs": [],
   "source": [
    "#Calculating  count of people hospitalized for every diagnosis\n",
    "df5=df4.groupby('Diagnosis')['Diagnosis'].agg({'Count - Hospitalized':'count'}).reset_index()\n",
    "#Calculating  count of total people  for every diagnosis \n",
    "df6=df3.groupby('Diagnosis')['Diagnosis'].agg({'Total Count':'count'}).reset_index()"
   ]
  },
  {
   "cell_type": "code",
   "execution_count": 8,
   "metadata": {
    "collapsed": false
   },
   "outputs": [],
   "source": [
    "df7=pd.merge(df5,df6,how=\"left\", on=\"Diagnosis\")"
   ]
  },
  {
   "cell_type": "code",
   "execution_count": 9,
   "metadata": {
    "collapsed": false
   },
   "outputs": [],
   "source": [
    "#Calculating rate\n",
    "df7['Rate']=(df7['Count - Hospitalized']/df7['Total Count'])*100"
   ]
  },
  {
   "cell_type": "code",
   "execution_count": 10,
   "metadata": {
    "collapsed": false
   },
   "outputs": [
    {
     "data": {
      "text/html": [
       "<div>\n",
       "<table border=\"1\" class=\"dataframe\">\n",
       "  <thead>\n",
       "    <tr style=\"text-align: right;\">\n",
       "      <th></th>\n",
       "      <th>Diagnosis</th>\n",
       "      <th>Count - Hospitalized</th>\n",
       "      <th>Total Count</th>\n",
       "      <th>Rate</th>\n",
       "    </tr>\n",
       "  </thead>\n",
       "  <tbody>\n",
       "    <tr>\n",
       "      <th>0</th>\n",
       "      <td>Submersion (including Drowning)</td>\n",
       "      <td>23</td>\n",
       "      <td>54</td>\n",
       "      <td>42.592593</td>\n",
       "    </tr>\n",
       "    <tr>\n",
       "      <th>1</th>\n",
       "      <td>Fracture</td>\n",
       "      <td>1811</td>\n",
       "      <td>9735</td>\n",
       "      <td>18.602979</td>\n",
       "    </tr>\n",
       "    <tr>\n",
       "      <th>2</th>\n",
       "      <td>Amputation</td>\n",
       "      <td>20</td>\n",
       "      <td>125</td>\n",
       "      <td>16.000000</td>\n",
       "    </tr>\n",
       "    <tr>\n",
       "      <th>3</th>\n",
       "      <td>Poisoning</td>\n",
       "      <td>88</td>\n",
       "      <td>724</td>\n",
       "      <td>12.154696</td>\n",
       "    </tr>\n",
       "    <tr>\n",
       "      <th>4</th>\n",
       "      <td>Internal organ injury</td>\n",
       "      <td>630</td>\n",
       "      <td>5306</td>\n",
       "      <td>11.873351</td>\n",
       "    </tr>\n",
       "  </tbody>\n",
       "</table>\n",
       "</div>"
      ],
      "text/plain": [
       "                         Diagnosis  Count - Hospitalized  Total Count  \\\n",
       "0  Submersion (including Drowning)                    23           54   \n",
       "1                         Fracture                  1811         9735   \n",
       "2                       Amputation                    20          125   \n",
       "3                        Poisoning                    88          724   \n",
       "4            Internal organ injury                   630         5306   \n",
       "\n",
       "        Rate  \n",
       "0  42.592593  \n",
       "1  18.602979  \n",
       "2  16.000000  \n",
       "3  12.154696  \n",
       "4  11.873351  "
      ]
     },
     "execution_count": 10,
     "metadata": {},
     "output_type": "execute_result"
    }
   ],
   "source": [
    "#Sorting based on rate\n",
    "df8=df7.sort_values('Rate',ascending=False).reset_index(drop=True)\n",
    "df8.head()"
   ]
  },
  {
   "cell_type": "markdown",
   "metadata": {},
   "source": [
    "#### What diagnosis most often concluded with the individual leaving without being seen?"
   ]
  },
  {
   "cell_type": "code",
   "execution_count": 11,
   "metadata": {
    "collapsed": true
   },
   "outputs": [],
   "source": [
    "#Filtering only cases people have left without being seen\n",
    "df9=df3[(df3['disposition']==6)]"
   ]
  },
  {
   "cell_type": "code",
   "execution_count": 12,
   "metadata": {
    "collapsed": false
   },
   "outputs": [],
   "source": [
    "#Calculating  count of people leaving without being seen for every diagnosis\n",
    "df10=df9.groupby('Diagnosis')['Diagnosis'].agg({'Count - Left without being seen':'count'}).reset_index()\n",
    "#Calculating  count of total people  for every diagnosis \n",
    "df11=df3.groupby('Diagnosis')['Diagnosis'].agg({'Total Count':'count'}).reset_index()"
   ]
  },
  {
   "cell_type": "code",
   "execution_count": 13,
   "metadata": {
    "collapsed": false
   },
   "outputs": [],
   "source": [
    "df12=pd.merge(df10,df11,how=\"left\", on=\"Diagnosis\")"
   ]
  },
  {
   "cell_type": "code",
   "execution_count": 14,
   "metadata": {
    "collapsed": false
   },
   "outputs": [],
   "source": [
    "df12['Rate']=(df12['Count - Left without being seen']/df12['Total Count'])*100"
   ]
  },
  {
   "cell_type": "code",
   "execution_count": 15,
   "metadata": {
    "collapsed": false
   },
   "outputs": [
    {
     "data": {
      "text/html": [
       "<div>\n",
       "<table border=\"1\" class=\"dataframe\">\n",
       "  <thead>\n",
       "    <tr style=\"text-align: right;\">\n",
       "      <th></th>\n",
       "      <th>Diagnosis</th>\n",
       "      <th>Count - Left without being seen</th>\n",
       "      <th>Total Count</th>\n",
       "      <th>Rate</th>\n",
       "    </tr>\n",
       "  </thead>\n",
       "  <tbody>\n",
       "    <tr>\n",
       "      <th>0</th>\n",
       "      <td>Poisoning</td>\n",
       "      <td>24</td>\n",
       "      <td>724</td>\n",
       "      <td>3.314917</td>\n",
       "    </tr>\n",
       "    <tr>\n",
       "      <th>1</th>\n",
       "      <td>Other/Not Stated</td>\n",
       "      <td>257</td>\n",
       "      <td>8120</td>\n",
       "      <td>3.165025</td>\n",
       "    </tr>\n",
       "    <tr>\n",
       "      <th>2</th>\n",
       "      <td>Aspirated foreign object</td>\n",
       "      <td>2</td>\n",
       "      <td>66</td>\n",
       "      <td>3.030303</td>\n",
       "    </tr>\n",
       "    <tr>\n",
       "      <th>3</th>\n",
       "      <td>Burns, radiation (includes all cell damage by ...</td>\n",
       "      <td>1</td>\n",
       "      <td>35</td>\n",
       "      <td>2.857143</td>\n",
       "    </tr>\n",
       "    <tr>\n",
       "      <th>4</th>\n",
       "      <td>Burns, chemical (caustics, etc.)</td>\n",
       "      <td>2</td>\n",
       "      <td>86</td>\n",
       "      <td>2.325581</td>\n",
       "    </tr>\n",
       "  </tbody>\n",
       "</table>\n",
       "</div>"
      ],
      "text/plain": [
       "                                           Diagnosis  \\\n",
       "0                                          Poisoning   \n",
       "1                                   Other/Not Stated   \n",
       "2                           Aspirated foreign object   \n",
       "3  Burns, radiation (includes all cell damage by ...   \n",
       "4                   Burns, chemical (caustics, etc.)   \n",
       "\n",
       "   Count - Left without being seen  Total Count      Rate  \n",
       "0                               24          724  3.314917  \n",
       "1                              257         8120  3.165025  \n",
       "2                                2           66  3.030303  \n",
       "3                                1           35  2.857143  \n",
       "4                                2           86  2.325581  "
      ]
     },
     "execution_count": 15,
     "metadata": {},
     "output_type": "execute_result"
    }
   ],
   "source": [
    "df13=df12.sort_values('Rate',ascending=False).reset_index(drop=True)\n",
    "df13.head()"
   ]
  },
  {
   "cell_type": "markdown",
   "metadata": {},
   "source": [
    "### Conclusion"
   ]
  },
  {
   "cell_type": "markdown",
   "metadata": {
    "collapsed": false
   },
   "source": [
    "\n",
    "* People who drowned and with fractures are getting admitted since they are injuries that can't be self treated or cured instantly \n",
    "* I can conclude from this analysis that people  with poisoning and foreign objects are leaving without being seen since they felt the injury they have is not serious enough for admission and treatment or because they are not happy with the treatment (cost of treatment)suggested by the doctor.\n",
    "* Even for small burns due to chemicals people believe it can be self cured and they do not need professional medical attention to it.\n",
    "\n",
    "\n"
   ]
  },
  {
   "cell_type": "code",
   "execution_count": null,
   "metadata": {
    "collapsed": false
   },
   "outputs": [],
   "source": []
  },
  {
   "cell_type": "code",
   "execution_count": null,
   "metadata": {
    "collapsed": false
   },
   "outputs": [],
   "source": []
  },
  {
   "cell_type": "code",
   "execution_count": null,
   "metadata": {
    "collapsed": true
   },
   "outputs": [],
   "source": []
  }
 ],
 "metadata": {
  "kernelspec": {
   "display_name": "Python 3",
   "language": "python",
   "name": "python3"
  },
  "language_info": {
   "codemirror_mode": {
    "name": "ipython",
    "version": 3
   },
   "file_extension": ".py",
   "mimetype": "text/x-python",
   "name": "python",
   "nbconvert_exporter": "python",
   "pygments_lexer": "ipython3",
   "version": "3.6.0"
  }
 },
 "nbformat": 4,
 "nbformat_minor": 2
}
