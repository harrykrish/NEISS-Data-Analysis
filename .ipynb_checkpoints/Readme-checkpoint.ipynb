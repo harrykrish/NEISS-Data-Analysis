{
 "cells": [
  {
   "cell_type": "markdown",
   "metadata": {},
   "source": [
    "## NEISS Data Analysis"
   ]
  },
  {
   "cell_type": "markdown",
   "metadata": {},
   "source": [
    "<img src=\"images/NEISS.JPG\">"
   ]
  },
  {
   "cell_type": "markdown",
   "metadata": {
    "collapsed": false
   },
   "source": [
    "### Analysis 1"
   ]
  },
  {
   "cell_type": "markdown",
   "metadata": {
    "collapsed": false
   },
   "source": [
    "1. What are the top three body parts most frequently represented in this dataset?\n",
    "2. What are the top three body parts that are least frequently represented?"
   ]
  },
  {
   "cell_type": "markdown",
   "metadata": {},
   "source": [
    "### Results"
   ]
  },
  {
   "cell_type": "markdown",
   "metadata": {
    "collapsed": false
   },
   "source": [
    "<img src=\"images/top_least_parts.JPG\" align=\"left\">"
   ]
  },
  {
   "cell_type": "markdown",
   "metadata": {
    "collapsed": false
   },
   "source": [
    "### Analysis 2\n",
    "1. How many injuries in this dataset involve a skateboard?\n",
    "2. Of those injuries, what percentage were male and what percentage were female?\n",
    "3. What was the average age of someone injured in an incident involving a skateboard?\n"
   ]
  },
  {
   "cell_type": "markdown",
   "metadata": {
    "collapsed": true
   },
   "source": [
    "### Results"
   ]
  },
  {
   "cell_type": "markdown",
   "metadata": {
    "collapsed": true
   },
   "source": [
    "<img src=\"images/analysis_2.JPG\" align=\"left\">"
   ]
  },
  {
   "cell_type": "markdown",
   "metadata": {
    "collapsed": true
   },
   "source": [
    "## Analysis 3\n",
    "1. What diagnosis had the highest hospitalization rate? \n",
    "2. What diagnosis most often concluded with the individual leaving without being seen?\n"
   ]
  },
  {
   "cell_type": "markdown",
   "metadata": {
    "collapsed": true
   },
   "source": [
    "<img src=\"images/analysis_3.JPG\" align=\"left\">"
   ]
  },
  {
   "cell_type": "markdown",
   "metadata": {
    "collapsed": true
   },
   "source": [
    "<img src=\"images/analysis_3_2.JPG\" align=\"left\">"
   ]
  },
  {
   "cell_type": "markdown",
   "metadata": {
    "collapsed": true
   },
   "source": [
    "### Conclusion\n",
    "* People who drowned and with fractures are getting admitted since they are injuries that can't be self treated or cured instantly \n",
    "* I can conclude from this analysis that people  with poisoning and foreign objects are leaving without being seen since they felt the injury they have is not serious enough for admission and treatment or because they are not happy with the treatment (cost of treatment)suggested by the doctor.\n",
    "* Even for small burns due to chemicals people believe it can be self cured and they do not need professional medical attention to it.\n",
    "\n",
    "\n"
   ]
  },
  {
   "cell_type": "markdown",
   "metadata": {
    "collapsed": true
   },
   "source": [
    "### Analysis 4\n",
    "\n",
    "1. Relationship between age and reported injuries\n"
   ]
  },
  {
   "cell_type": "markdown",
   "metadata": {
    "collapsed": false
   },
   "source": [
    "### Conclusion\n",
    "* From this analysis we can  infer that when people are young (infants,children) they tend to have injuries on the face (head and face injuries) which could be because they tend to fall while playing and hurt themselves.\n",
    "* But for  adults, most of the injuries are in the arms and finger regions which could be because they tend to do a lot of work (household work, cooking etc.) during this age group. \n",
    "* As people tend to grow older, we again seem to notice more injuries on the head which might be because they grow older and fall often (due to weakness and lack of support)\n",
    "* We can also observe that in this dataset, the maximum number of injuries are for the adults compared to other age groups"
   ]
  },
  {
   "cell_type": "markdown",
   "metadata": {
    "collapsed": false
   },
   "source": [
    "## Analysis 5\n",
    "1. Where do the injuries occur(location) during different times of the year? "
   ]
  },
  {
   "cell_type": "markdown",
   "metadata": {
    "collapsed": false
   },
   "source": [
    "### Conclusion\n",
    "* We can conclude that maximum number of incidents occur during the start of summer and fall (May and September).\n",
    "* The less number of injuries during November and december can be attributed to less people coming out of their homes during Winter (November and December)\n",
    "* Maximum injuries in places of recreation or sports is during September (Fall). Taking precautions in such places can avoid such accidents.\n",
    "* It can also be easily concluded that maximum incidents occur at home"
   ]
  }
 ],
 "metadata": {
  "anaconda-cloud": {},
  "kernelspec": {
   "display_name": "Python 3",
   "language": "python",
   "name": "python3"
  },
  "language_info": {
   "codemirror_mode": {
    "name": "ipython",
    "version": 3
   },
   "file_extension": ".py",
   "mimetype": "text/x-python",
   "name": "python",
   "nbconvert_exporter": "python",
   "pygments_lexer": "ipython3",
   "version": "3.6.0"
  }
 },
 "nbformat": 4,
 "nbformat_minor": 1
}
