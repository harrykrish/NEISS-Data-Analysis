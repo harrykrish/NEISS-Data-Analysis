{
 "cells": [
  {
   "cell_type": "markdown",
   "metadata": {},
   "source": [
    "## Analysis 2\n",
    "1. How many injuries in this dataset involve a skateboard?\n",
    "2. Of those injuries, what percentage were male and what percentage were female?\n",
    "3. What was the average age of someone injured in an incident involving a skateboard?\n"
   ]
  },
  {
   "cell_type": "code",
   "execution_count": 2,
   "metadata": {
    "collapsed": true
   },
   "outputs": [],
   "source": [
    "#Importing required packages\n",
    "import pandas as pd\n",
    "import matplotlib.pyplot as plt \n",
    "import seaborn as sns\n",
    "%matplotlib inline\n",
    "import datetime\n",
    "import numpy as np"
   ]
  },
  {
   "cell_type": "code",
   "execution_count": 3,
   "metadata": {
    "collapsed": false
   },
   "outputs": [],
   "source": [
    "#Reading the required files\n",
    "df1=pd.read_csv(r\"NEISS Data/NEISS2014.csv\")"
   ]
  },
  {
   "cell_type": "code",
   "execution_count": 5,
   "metadata": {
    "collapsed": false
   },
   "outputs": [],
   "source": [
    "#Filtering only the accidents involving skateboard\n",
    "#From the documentation, product code for skateboard is 1333. Filtering data if prod1 or prod2 is a skateboard\n",
    "df2=df1[(df1['prod1']==1333)|(df1['prod2']==1333)]"
   ]
  },
  {
   "cell_type": "code",
   "execution_count": 6,
   "metadata": {
    "collapsed": false
   },
   "outputs": [
    {
     "name": "stdout",
     "output_type": "stream",
     "text": [
      "The number of injuries involving a skateboard is 495\n"
     ]
    }
   ],
   "source": [
    "print(\"The number of injuries involving a skateboard is \"+str((len(df2.index))))"
   ]
  },
  {
   "cell_type": "markdown",
   "metadata": {},
   "source": [
    "#### Of those injuries, what percentage were male and what percentage were female?"
   ]
  },
  {
   "cell_type": "code",
   "execution_count": 7,
   "metadata": {
    "collapsed": false
   },
   "outputs": [],
   "source": [
    "#Calculating percentage of male and female involved in skateboard accident\n",
    "df3 = df2.groupby(['sex'])['sex'].agg({'Freq': 'count'}).reset_index()\n"
   ]
  },
  {
   "cell_type": "code",
   "execution_count": 8,
   "metadata": {
    "collapsed": true
   },
   "outputs": [],
   "source": [
    "df3['Percentage']=round((df3['Freq']/len(df2))*100,2)"
   ]
  },
  {
   "cell_type": "code",
   "execution_count": 9,
   "metadata": {
    "collapsed": false
   },
   "outputs": [
    {
     "name": "stdout",
     "output_type": "stream",
     "text": [
      "      sex  Freq  Percentage\n",
      "0  Female    89       17.98\n",
      "1    Male   406       82.02\n"
     ]
    }
   ],
   "source": [
    "print(df3)"
   ]
  },
  {
   "cell_type": "markdown",
   "metadata": {},
   "source": [
    "#### Visually representing percentage distribution of sex (Alternate method)"
   ]
  },
  {
   "cell_type": "code",
   "execution_count": 10,
   "metadata": {
    "collapsed": false
   },
   "outputs": [
    {
     "data": {
      "text/plain": [
       "(-1.1061606342777075,\n",
       " 1.1039393161990005,\n",
       " -1.105650819857938,\n",
       " 1.1002690866599019)"
      ]
     },
     "execution_count": 10,
     "metadata": {},
     "output_type": "execute_result"
    },
    {
     "data": {
      "image/png": "[encoded data removed]",
      "text/plain": [
       "<matplotlib.figure.Figure at 0xe9b11fe10>"
      ]
     },
     "metadata": {},
     "output_type": "display_data"
    }
   ],
   "source": [
    "colors=[\"#9b59b6\", \"#3498db\", \"#95a5a6\", \"#e74c3c\", \"#34495e\", \"#2ecc71\"]\n",
    "plt.pie(\n",
    "    df3['Freq'],\n",
    "    labels=df3['sex'],\n",
    "    shadow=False,\n",
    "    startangle=90,\n",
    "    colors=colors,\n",
    "    # with the percent listed as a fraction\n",
    "    autopct='%1.1f%%',\n",
    "    )\n",
    "\n",
    "\n",
    "# View the plot drop above\n",
    "plt.title(\"Gender Distribution -  Generated at \"+str(datetime.datetime.now().strftime('%Y-%m-%d %H:%M:%S')),y=1.08)\n",
    "plt.axis('equal')\n"
   ]
  },
  {
   "cell_type": "code",
   "execution_count": 11,
   "metadata": {
    "collapsed": true
   },
   "outputs": [],
   "source": [
    "#Using an alternate method to check skateboard related injuries"
   ]
  },
  {
   "cell_type": "code",
   "execution_count": 12,
   "metadata": {
    "collapsed": false
   },
   "outputs": [],
   "source": [
    "df9=df1[(df1['narrative'].str.contains('SKATEBOARD'))]"
   ]
  },
  {
   "cell_type": "code",
   "execution_count": 13,
   "metadata": {
    "collapsed": false
   },
   "outputs": [
    {
     "name": "stdout",
     "output_type": "stream",
     "text": [
      "The number of injuries involving a skateboard by checking the narrative description is 466\n"
     ]
    }
   ],
   "source": [
    "print('The number of injuries involving a skateboard by checking the narrative description is '+str((len(df9.index))))"
   ]
  },
  {
   "cell_type": "code",
   "execution_count": 14,
   "metadata": {
    "collapsed": false
   },
   "outputs": [
    {
     "name": "stdout",
     "output_type": "stream",
     "text": [
      "      sex  Freq  Percentage\n",
      "0  Female    82        17.6\n",
      "1    Male   384        82.4\n"
     ]
    }
   ],
   "source": [
    "#Calculating percentage of male and female involved in skateboard accident\n",
    "df10 = df9.groupby(['sex'])['sex'].agg({'Freq': 'count'}).reset_index()\n",
    "df10['Percentage']=round((df10['Freq']/len(df9))*100,2)\n",
    "print(df10)"
   ]
  },
  {
   "cell_type": "markdown",
   "metadata": {},
   "source": [
    "##### For the second part of the analysis, dataframe df2 is considered (involving 495 records)"
   ]
  },
  {
   "cell_type": "markdown",
   "metadata": {},
   "source": [
    "#### What was the average age of someone injured in an incident involving a skateboard?"
   ]
  },
  {
   "cell_type": "code",
   "execution_count": 15,
   "metadata": {
    "collapsed": false
   },
   "outputs": [
    {
     "name": "stderr",
     "output_type": "stream",
     "text": [
      "C:\\Users\\Harikrishna\\Anaconda3\\lib\\site-packages\\pandas\\core\\indexing.py:297: SettingWithCopyWarning: \n",
      "A value is trying to be set on a copy of a slice from a DataFrame.\n",
      "Try using .loc[row_indexer,col_indexer] = value instead\n",
      "\n",
      "See the caveats in the documentation: http://pandas.pydata.org/pandas-docs/stable/indexing.html#indexing-view-versus-copy\n",
      "  self.obj[key] = _infer_fill_value(value)\n",
      "C:\\Users\\Harikrishna\\Anaconda3\\lib\\site-packages\\pandas\\core\\indexing.py:477: SettingWithCopyWarning: \n",
      "A value is trying to be set on a copy of a slice from a DataFrame.\n",
      "Try using .loc[row_indexer,col_indexer] = value instead\n",
      "\n",
      "See the caveats in the documentation: http://pandas.pydata.org/pandas-docs/stable/indexing.html#indexing-view-versus-copy\n",
      "  self.obj[item] = s\n"
     ]
    }
   ],
   "source": [
    "#Based on the coding scheme, ages less than two years are coded as 200 (2 followed by months) and above\n",
    "#We can code values greater than 200 as 1 and retain other values \n",
    "#Creating a new column for this purpose\n",
    "df2.loc[df2['age']>=200,'age_year'] = 1\n",
    "df2.loc[df2['age']<200,'age_year'] = df2['age']"
   ]
  },
  {
   "cell_type": "code",
   "execution_count": null,
   "metadata": {
    "collapsed": false
   },
   "outputs": [],
   "source": []
  },
  {
   "cell_type": "code",
   "execution_count": 16,
   "metadata": {
    "collapsed": false
   },
   "outputs": [
    {
     "name": "stdout",
     "output_type": "stream",
     "text": [
      "The average age of a person in a skateboard accident is 18.0\n"
     ]
    }
   ],
   "source": [
    "## Average Age of a person involved in a skateboard\n",
    "avgage=round(df2['age_year'].mean(),0)\n",
    "print('The average age of a person in a skateboard accident is '+str(avgage))"
   ]
  },
  {
   "cell_type": "code",
   "execution_count": 17,
   "metadata": {
    "collapsed": true
   },
   "outputs": [],
   "source": [
    "#Verification (proof) for the second part of problem\n",
    "#This verification ensures that there are no skateboard accidents involing people less than 2 years of age (does not alter mean)"
   ]
  },
  {
   "cell_type": "code",
   "execution_count": 18,
   "metadata": {
    "collapsed": true
   },
   "outputs": [],
   "source": [
    "df_new=df1[df1['age']>200]"
   ]
  },
  {
   "cell_type": "code",
   "execution_count": 19,
   "metadata": {
    "collapsed": false
   },
   "outputs": [],
   "source": [
    "df_new_skate=df_new[(df_new['prod1']==1333)|(df_new['prod2']==1333)]"
   ]
  },
  {
   "cell_type": "code",
   "execution_count": 20,
   "metadata": {
    "collapsed": false
   },
   "outputs": [
    {
     "name": "stdout",
     "output_type": "stream",
     "text": [
      "The number of injuries due to skateboard incidents is 0\n"
     ]
    }
   ],
   "source": [
    "print('The number of injuries due to skateboard incidents is '+str(len(df_new_skate.index)))"
   ]
  },
  {
   "cell_type": "code",
   "execution_count": 21,
   "metadata": {
    "collapsed": false
   },
   "outputs": [
    {
     "name": "stdout",
     "output_type": "stream",
     "text": [
      "This proves that the average age calculated is not altered by coding age_year as 1 if people are less than 2 years of age\n"
     ]
    }
   ],
   "source": [
    "print('This proves that the average age calculated is not altered by coding age_year as 1 if people are less than 2 years of age')"
   ]
  },
  {
   "cell_type": "code",
   "execution_count": null,
   "metadata": {
    "collapsed": true
   },
   "outputs": [],
   "source": []
  }
 ],
 "metadata": {
  "kernelspec": {
   "display_name": "Python 3",
   "language": "python",
   "name": "python3"
  },
  "language_info": {
   "codemirror_mode": {
    "name": "ipython",
    "version": 3
   },
   "file_extension": ".py",
   "mimetype": "text/x-python",
   "name": "python",
   "nbconvert_exporter": "python",
   "pygments_lexer": "ipython3",
   "version": "3.6.0"
  }
 },
 "nbformat": 4,
 "nbformat_minor": 2
}
